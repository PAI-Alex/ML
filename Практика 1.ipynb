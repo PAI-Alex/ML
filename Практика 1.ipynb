{
 "cells": [
  {
   "attachments": {},
   "cell_type": "markdown",
   "metadata": {},
   "source": [
    "# Практическая работа 1"
   ]
  },
  {
   "cell_type": "code",
   "execution_count": null,
   "metadata": {},
   "outputs": [],
   "source": [
    "import matplotlib.pyplot as plt\n",
    "import seaborn as sns\n",
    "import numpy as np\n",
    "from scipy.optimize import curve_fit\n",
    "from sklearn.model_selection import train_test_split"
   ]
  },
  {
   "cell_type": "code",
   "execution_count": null,
   "metadata": {},
   "outputs": [],
   "source": [
    "df_1 = np.load('ml1var6.npy') #загрузка \n",
    "df_1t = df_1[:len(df_1)-1].transpose() #удаление последнего элемента\n",
    "y_mean = df_1t[1].mean() \n",
    "y_std = df_1t[1].std()\n",
    "z_y = (df_1t[1] - y_mean)/y_std\n",
    "\n",
    "indexOfOutlier = np.where(abs(z_y) > 3) #индексы выбросов\n",
    "\n",
    "df_1t = np.delete(df_1t, indexOfOutlier, 1) #удаление выбросов\n",
    "df_1t"
   ]
  },
  {
   "cell_type": "code",
   "execution_count": null,
   "metadata": {},
   "outputs": [],
   "source": [
    "X_train, X_test, y_train, y_test = train_test_split(df_1t[0], df_1t[1], test_size=0.25) #разделение на обучающую и тестовую выборки"
   ]
  },
  {
   "cell_type": "code",
   "execution_count": null,
   "metadata": {},
   "outputs": [],
   "source": [
    "#различные средние\n",
    "xy_mean = (X_train * y_train).mean()\n",
    "x_mean = X_train.mean()\n",
    "y_mean  = y_train.mean()\n",
    "sqX_mean = (X_train ** 2).mean()\n",
    "\n",
    "\n",
    "K = (xy_mean - y_mean * x_mean) / (sqX_mean - x_mean ** 2) #k\n",
    "b = y_mean - K * x_mean #b\n",
    "print(K, b)"
   ]
  },
  {
   "cell_type": "code",
   "execution_count": null,
   "metadata": {},
   "outputs": [],
   "source": [
    "def func(x, k,b): # y = K*x+b\n",
    "  return k*x+b\n",
    "\n",
    "popt, pcov= curve_fit(f=func, xdata=X_train, ydata=y_train) #использование curve_fit\n",
    "print(popt)"
   ]
  },
  {
   "cell_type": "code",
   "execution_count": null,
   "metadata": {},
   "outputs": [],
   "source": [
    "#коэффициент детерминаци\n",
    "def deter(x_t, y_t, k,b):\n",
    "  y_m = y_t.mean()\n",
    "  y = k*x_t+b\n",
    "  sum1 = sum((y_t -y)**2)\n",
    "  sum2 = sum((y_t -y_m)**2)\n",
    "  return(1-sum1/sum2)"
   ]
  },
  {
   "cell_type": "code",
   "execution_count": null,
   "metadata": {},
   "outputs": [],
   "source": [
    "#визуализация\n",
    "sns.set(rc={\"figure.figsize\":( 8 , 6)}) \n",
    "sns.scatterplot(x=X_train, y = y_train, color = 'blue', s= 20) #точки обучения\n",
    "sns.scatterplot(x=X_test, y = y_test, color = 'green', s = 100 )#точки теста\n",
    "sns.lineplot(x = X_train, y = X_train * K + b, color = 'black')#линия регрессии\n",
    "plt.scatter(x = df_1[indexOfOutlier][0][0], y = df_1[indexOfOutlier][0][1], color = 'red', s=100)#выбросы\n",
    "sns.lineplot(x = X_train, y = X_train * popt[0] + popt[1], color = 'Violet')#линия регрессии с помощью curve_fit\n",
    "print(\"K = \", K)\n",
    "print(\"b = \", b)\n",
    "print(\"R^2 = \", deter(X_test, y_test, K, b)) #коэффициент детерминаци\n",
    "print(\"y(\",df_1[-1][0],\")=\", K*df_1[-1][0]+b)"
   ]
  }
 ],
 "metadata": {
  "kernelspec": {
   "display_name": "Python 3",
   "language": "python",
   "name": "python3"
  },
  "language_info": {
   "name": "python",
   "version": "3.8.6"
  },
  "orig_nbformat": 4
 },
 "nbformat": 4,
 "nbformat_minor": 2
}
