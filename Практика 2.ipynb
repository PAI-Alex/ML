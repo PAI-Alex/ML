{
 "cells": [
  {
   "cell_type": "code",
   "execution_count": null,
   "metadata": {},
   "outputs": [],
   "source": [
    "pip install pingouin\n"
   ]
  },
  {
   "cell_type": "code",
   "execution_count": null,
   "metadata": {},
   "outputs": [],
   "source": [
    "import pingouin as pg\n",
    "import numpy as np"
   ]
  },
  {
   "cell_type": "code",
   "execution_count": null,
   "metadata": {},
   "outputs": [],
   "source": [
    "df_2 = np.array([[150, 5, 110], [135, 8, 115], [130, 9, 118], [85,5,150],\n",
    "                [145,7,94], [130, 6, 110], [90,11,100], [110, 9, 120],\n",
    "                [150, 5, 110], [165,6,93], [107,10,105],\n",
    "                [117,8,79],[143,5,87],[100,10,130], [135,8,80]])\n",
    "\n",
    "df_2t = df_2.transpose()\n",
    "y = df_2t[0]\n",
    "x1 = df_2t[1]\n",
    "x2 = df_2t[2]\n",
    "y_m = df_2t[0].mean()\n",
    "x1_m = df_2t[1].mean()\n",
    "x2_m = df_2t[2].mean()\n",
    "x1y_m = (df_2t[1] * df_2t[0]).mean()\n",
    "x2y_m = (df_2t[2] * df_2t[0]).mean()\n",
    "x1x2_m = (df_2t[1] * df_2t[2]).mean()\n",
    "sqX1_m = (df_2t[1] ** 2).mean()\n",
    "sqX2_m = (df_2t[2] ** 2).mean()\n",
    "sqY_m = (df_2t[0] ** 2).mean()\n",
    "#X1 - возраст\n",
    "#X2 - пробег\n",
    "#Y - цена\n",
    "print(df_2t)\n",
    "print(\"средний Y = \", y_m)\n",
    "print(\"средний X1 = \", x1_m)\n",
    "print(\"средний X2 = \", x2_m)\n",
    "print(\"средний X1*y = \", x1y_m)\n",
    "print(\"средний X2*Y = \", x2y_m)\n",
    "print(\"средний X1*X2 = \", x1x2_m)\n",
    "print(\"средний квардат X1 = \", sqX1_m)\n",
    "print(\"средний квардат X2 = \", sqX2_m)\n",
    "print(\"средний квардат Y = \", sqY_m)"
   ]
  },
  {
   "cell_type": "code",
   "execution_count": null,
   "metadata": {},
   "outputs": [],
   "source": [
    "m1 = np.array([[1, x1_m, x2_m ],\n",
    "              [x1_m, sqX1_m, x1x2_m],\n",
    "              [x2_m, x1x2_m,sqX2_m]])\n",
    "det = np.linalg.det(m1)\n",
    "print(\"Определитель = \"\n",
    ",det)\n",
    "m2 = np.array([[y_m],\n",
    "               [x1y_m],\n",
    "               [x2y_m]])\n",
    "try:\n",
    "  b = np.linalg.solve(m1,m2)\n",
    "  print(\"b0 = \",b[0],\"\\nb1 = \", b[1],\"\\nb2 = \", b[2])\n",
    "except:\n",
    "  print(\"Нет решения. Коллинеарность среди X?\")"
   ]
  },
  {
   "cell_type": "code",
   "execution_count": null,
   "metadata": {},
   "outputs": [],
   "source": [
    "stdY = y.std()\n",
    "stdX1 = x1.std()\n",
    "stdX2 = x2.std()\n",
    "print(\"σY = \",stdY)\n",
    "print(\"σX1 = \",stdX1)\n",
    "print(\"σX2 = \",stdX2)"
   ]
  },
  {
   "cell_type": "code",
   "execution_count": null,
   "metadata": {},
   "outputs": [],
   "source": [
    "cov_YX1 = (x1y_m - y_m*x1_m)/(stdY*stdX1)\n",
    "cov_YX2 = (x2y_m - y_m*x2_m)/(stdY*stdX2)\n",
    "cov_X1X2 = (x1x2_m - x1_m*x2_m)/(stdX2*stdX1)\n",
    "print(\"cov_YX1 = \", cov_YX1)\n",
    "print(\"cov_YX2 = \", cov_YX2)\n",
    "print(\"cov_X1X2 = \", cov_X1X2)"
   ]
  },
  {
   "cell_type": "code",
   "execution_count": null,
   "metadata": {},
   "outputs": [],
   "source": [
    "cov_YX1_notX2 = (cov_YX1 - cov_YX2 * cov_X1X2)/(((1 - cov_YX2**2)*(1-cov_X1X2**2))**0.5)\n",
    "print(\"cov_YX1_notX2 = \",cov_YX1_notX2)\n",
    "cov_YX2_notX1 = (cov_YX2 - cov_YX1 * cov_X1X2)/(((1 - cov_YX1**2)*(1-cov_X1X2**2))**0.5)\n",
    "print(\"cov_YX2_notX1 = \",cov_YX2_notX1)"
   ]
  },
  {
   "cell_type": "code",
   "execution_count": null,
   "metadata": {},
   "outputs": [],
   "source": [
    "cov_YX1X2 = ((b[1]*stdX1*cov_YX1+b[2]*stdX2*cov_YX2)/stdY)**0.5\n",
    "print(\"cov_YX1X2 = \",cov_YX1X2)\n",
    "deter2 = (cov_YX1X2)**2\n",
    "print(\"Коэффициент детерминации = \",deter2)"
   ]
  },
  {
   "cell_type": "code",
   "execution_count": null,
   "metadata": {},
   "outputs": [],
   "source": [
    "pg.partial_corr(data=pd.DataFrame(df_2).corr(),x=2, y=0,covar=1)"
   ]
  }
 ],
 "metadata": {
  "kernelspec": {
   "display_name": "Python 3",
   "language": "python",
   "name": "python3"
  },
  "language_info": {
   "name": "python",
   "version": "3.8.6"
  },
  "orig_nbformat": 4
 },
 "nbformat": 4,
 "nbformat_minor": 2
}
